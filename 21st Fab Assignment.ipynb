{
 "cells": [
  {
   "cell_type": "markdown",
   "id": "410d86d9-9bc2-4b1e-926d-018abcfd54c9",
   "metadata": {},
   "source": [
    "# 21st Fab Assignment"
   ]
  },
  {
   "cell_type": "code",
   "execution_count": null,
   "id": "7d462e6b-32b7-40a5-b4e2-accceddc8154",
   "metadata": {},
   "outputs": [],
   "source": []
  },
  {
   "cell_type": "markdown",
   "id": "ac8fdbec-4b13-41b9-9380-84ceff281ef5",
   "metadata": {},
   "source": [
    "Q1. What is Web Scraping? Why is it Used? Give three areas where Web Scraping is used to get data."
   ]
  },
  {
   "cell_type": "markdown",
   "id": "96cf9fa2-9bda-4b80-8bb2-980da39c9e49",
   "metadata": {},
   "source": [
    "--> Web scrpping referse to automated data extracting from HTML or CSS based web sites.\n",
    "\n",
    "\n",
    "\n",
    "* There is many uses of web scrapping,these are some of them:\n",
    "\n",
    "1.With the use of web scrapping, we can collect the data from web sites.\n",
    "\n",
    "2.We can use the collocted data for different types of analytics.\n",
    "\n",
    "3.We also can use the data for reaserches.\n",
    "\n",
    "\n",
    "\n",
    "* Here is three area where we can use web scrapping to get data.\n",
    "\n",
    "1.Marketing \n",
    "\n",
    "2.Business\n",
    "\n",
    "3.Finance"
   ]
  },
  {
   "cell_type": "code",
   "execution_count": null,
   "id": "3c1edcd2-1a78-4fe3-ad19-2860deb62751",
   "metadata": {},
   "outputs": [],
   "source": []
  },
  {
   "cell_type": "markdown",
   "id": "12bc03ac-663c-431a-bcc9-0583535c95e1",
   "metadata": {},
   "source": [
    "Q2. What are the different methods used for Web Scraping?"
   ]
  },
  {
   "cell_type": "markdown",
   "id": "befeb516-9af9-4bdb-805f-dd3600341e17",
   "metadata": {},
   "source": [
    "1. Manual Scrapping :\n",
    "\n",
    "--> In this method we have to copy and past the data manually.\n",
    "--> It is very time consuming process.\n",
    "--> On other side it is very simple to do,it does not required technical skills.\n",
    "\n",
    "\n",
    "2. Tools :\n",
    "\n",
    "--> With the use of tools we can do web scrapping.\n",
    "--> There is many tools exist in market like,BeautifulSoup,Scrapy and many more.\n",
    "--> This tools required some technical skill for its effecience use.\n",
    "\n",
    "\n",
    "3. Data Providers :\n",
    "\n",
    "--> Some compnies specificlly provide the access of data.\n",
    "--> We can take help of them and save our time.\n",
    "--> Data providing compnies take charges of accessing the provided data."
   ]
  },
  {
   "cell_type": "code",
   "execution_count": null,
   "id": "d6db151c-a57c-4f2b-a6d9-fc497b970730",
   "metadata": {},
   "outputs": [],
   "source": []
  },
  {
   "cell_type": "markdown",
   "id": "47203e64-b08e-4772-8d79-ae5992ed568c",
   "metadata": {},
   "source": [
    "Q3. What is Beautiful Soup? Why is it used?\n"
   ]
  },
  {
   "cell_type": "markdown",
   "id": "4fe17d8d-ba68-4154-abea-4af979b3e39e",
   "metadata": {},
   "source": [
    "\n",
    "--> Beautiful Soup provides a few simple methods and Pythonic idioms for navigating, searching, and modifying a parse tree. \n",
    "\n",
    "\n",
    "* Uses of Beautiful Soup \n",
    "\n",
    "1. Beautiful Soup is widely used for web scraping because of its ease of use, flexibility, and robustness.\n",
    "\n",
    "2. Beautiful Soup is designed to handle poorly formatted or invalid HTML and XML files, which can be common when scraping data from the web.\n",
    "\n",
    "3. Beautiful Soup can work with a variety of different parsing libraries, including the built-in Python parser, lxml, html5lib, and more.\n",
    "\n"
   ]
  },
  {
   "cell_type": "code",
   "execution_count": null,
   "id": "a167888d-111d-4d8c-9c8f-8c7684dac408",
   "metadata": {},
   "outputs": [],
   "source": []
  },
  {
   "cell_type": "markdown",
   "id": "38c4da02-ba0a-492a-8c25-a9f48435f31f",
   "metadata": {},
   "source": [
    "Q4. Why is flask used in this Web Scraping project?\n"
   ]
  },
  {
   "cell_type": "markdown",
   "id": "b52de5a1-e1d6-43e1-a3bc-0f15ae3713ae",
   "metadata": {},
   "source": [
    "\n",
    "\n",
    "--> In the context of a web scraping project, Flask can be used to build a simple web application that allows users to interact with the           scraped data.\n",
    "\n",
    "--> Flask can be a useful tool for web scraping projects because it allows you to easily build a web-based interface for interacting with the       scraped data, without requiring significant additional development effort.\n"
   ]
  },
  {
   "cell_type": "code",
   "execution_count": null,
   "id": "206e9a91-2c6b-4b2b-96f5-3bfdedb4d302",
   "metadata": {},
   "outputs": [],
   "source": []
  },
  {
   "cell_type": "markdown",
   "id": "5ee39bc1-5a60-47aa-adbf-6fff9c9743f6",
   "metadata": {},
   "source": [
    "Q5. Write the names of AWS services used in this project. Also, explain the use of each service.\n"
   ]
  },
  {
   "cell_type": "markdown",
   "id": "66dc960a-1a02-442a-bbd2-3ced221765d1",
   "metadata": {},
   "source": [
    "\n",
    "\n",
    "* Services used in this project :\n",
    "\n",
    "1. Code Pipeline\n",
    "\n",
    "2. Beanstack                                                                                                                                                              \n",
    "                             \n",
    "* Uses of above services :\n",
    "\n",
    "1. Code Pipline :\n",
    "\n",
    "--> Code pipeline is a name of service provided by AWS.\n",
    "\n",
    "--> In the process of deployment we have to connect out git hub to code pipeline.\n",
    "\n",
    "--> Code pipeline is basically used for provide the data from git hub to beanstack.\n",
    "\n",
    "\n",
    "2. Beanstack :\n",
    "\n",
    "--> Beanstack is also a service of AWS.\n",
    "\n",
    "--> Beanstack provides resourse and proper environment for deployment."
   ]
  },
  {
   "cell_type": "code",
   "execution_count": null,
   "id": "b5ed36e8-ce71-476a-929b-ea5df38a1d90",
   "metadata": {},
   "outputs": [],
   "source": []
  },
  {
   "cell_type": "code",
   "execution_count": null,
   "id": "1fd4f9a6-8768-41e3-a383-407f6107a5da",
   "metadata": {},
   "outputs": [],
   "source": []
  },
  {
   "cell_type": "code",
   "execution_count": null,
   "id": "c253f96d-43f3-4d9f-81a0-d4399338d86c",
   "metadata": {},
   "outputs": [],
   "source": []
  },
  {
   "cell_type": "code",
   "execution_count": null,
   "id": "6fb9dae9-d23c-4f78-b0d9-bce23f34e608",
   "metadata": {},
   "outputs": [],
   "source": []
  }
 ],
 "metadata": {
  "kernelspec": {
   "display_name": "Python 3 (ipykernel)",
   "language": "python",
   "name": "python3"
  },
  "language_info": {
   "codemirror_mode": {
    "name": "ipython",
    "version": 3
   },
   "file_extension": ".py",
   "mimetype": "text/x-python",
   "name": "python",
   "nbconvert_exporter": "python",
   "pygments_lexer": "ipython3",
   "version": "3.10.8"
  }
 },
 "nbformat": 4,
 "nbformat_minor": 5
}
